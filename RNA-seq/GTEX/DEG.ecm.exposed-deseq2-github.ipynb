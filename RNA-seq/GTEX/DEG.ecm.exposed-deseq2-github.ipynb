{
 "cells": [
  {
   "cell_type": "code",
   "execution_count": 1,
   "id": "3b3a1a91",
   "metadata": {},
   "outputs": [
    {
     "name": "stderr",
     "output_type": "stream",
     "text": [
      "The legacy packages maptools, rgdal, and rgeos, underpinning this package\n",
      "will retire shortly. Please refer to R-spatial evolution reports on\n",
      "https://r-spatial.org/r/2023/05/15/evolution4.html for details.\n",
      "This package is now running under evolution status 0 \n",
      "\n",
      "Attaching SeuratObject\n",
      "\n"
     ]
    },
    {
     "data": {
      "text/html": [
       "<table class=\"dataframe\">\n",
       "<caption>A data.frame: 2 × 1710</caption>\n",
       "<thead>\n",
       "\t<tr><th></th><th scope=col>GTEX-OXRL-0008-SM-3NB29.1</th><th scope=col>GTEX-11P82-1426-SM-DTXFY.1</th><th scope=col>GTEX-1269C-0008-SM-5TDBY.1</th><th scope=col>GTEX-13O3O-0126-SM-E9J49.1</th><th scope=col>GTEX-14BMU-2226-SM-5TDE9.1</th><th scope=col>GTEX-14E7W-0126-SM-6LLJ9.1</th><th scope=col>GTEX-15RJE-2826-SM-7KUM9.1</th><th scope=col>GTEX-15UKP-1526-SM-6PAL9.1</th><th scope=col>GTEX-16A39-0008-SM-EAZC9.1</th><th scope=col>GTEX-16AAH-0626-SM-793C9.1</th><th scope=col>⋯</th><th scope=col>GTEX-1LVAO-2726-SM-E9TJ8.1</th><th scope=col>GTEX-1MCC2-1826-SM-DIPEX.1</th><th scope=col>GTEX-1MUQO-0126-SM-EAZ58.1</th><th scope=col>GTEX-1OJC3-0126-SM-E76QX.1</th><th scope=col>GTEX-1PDJ9-1226-SM-EXUSX.1</th><th scope=col>GTEX-1PPH7-2326-SM-EVYB8.1</th><th scope=col>GTEX-1PPH8-0126-SM-EWRN8.1</th><th scope=col>GTEX-1QMI2-0226-SM-EVYBX.1</th><th scope=col>GTEX-1QP29-0626-SM-EWRMX.1</th><th scope=col>GTEX-1QP67-1626-SM-EAZ3X.1</th></tr>\n",
       "\t<tr><th></th><th scope=col>&lt;dbl&gt;</th><th scope=col>&lt;dbl&gt;</th><th scope=col>&lt;dbl&gt;</th><th scope=col>&lt;dbl&gt;</th><th scope=col>&lt;dbl&gt;</th><th scope=col>&lt;dbl&gt;</th><th scope=col>&lt;dbl&gt;</th><th scope=col>&lt;dbl&gt;</th><th scope=col>&lt;dbl&gt;</th><th scope=col>&lt;dbl&gt;</th><th scope=col>⋯</th><th scope=col>&lt;dbl&gt;</th><th scope=col>&lt;dbl&gt;</th><th scope=col>&lt;dbl&gt;</th><th scope=col>&lt;dbl&gt;</th><th scope=col>&lt;dbl&gt;</th><th scope=col>&lt;dbl&gt;</th><th scope=col>&lt;dbl&gt;</th><th scope=col>&lt;dbl&gt;</th><th scope=col>&lt;dbl&gt;</th><th scope=col>&lt;dbl&gt;</th></tr>\n",
       "</thead>\n",
       "<tbody>\n",
       "\t<tr><th scope=row>A1BG</th><td>184</td><td>113</td><td>332</td><td>62</td><td>119</td><td>76</td><td>95</td><td>116</td><td>413</td><td>150</td><td>⋯</td><td>164</td><td>140</td><td>103</td><td>114</td><td>140</td><td>121</td><td>55</td><td>59</td><td>126</td><td>177</td></tr>\n",
       "\t<tr><th scope=row>A1BG-AS1</th><td>240</td><td>136</td><td>296</td><td>85</td><td>264</td><td>87</td><td>84</td><td>219</td><td>395</td><td>264</td><td>⋯</td><td>140</td><td>205</td><td> 80</td><td> 94</td><td>154</td><td>147</td><td>65</td><td>67</td><td>129</td><td>132</td></tr>\n",
       "</tbody>\n",
       "</table>\n"
      ],
      "text/latex": [
       "A data.frame: 2 × 1710\n",
       "\\begin{tabular}{r|lllllllllllllllllllll}\n",
       "  & GTEX-OXRL-0008-SM-3NB29.1 & GTEX-11P82-1426-SM-DTXFY.1 & GTEX-1269C-0008-SM-5TDBY.1 & GTEX-13O3O-0126-SM-E9J49.1 & GTEX-14BMU-2226-SM-5TDE9.1 & GTEX-14E7W-0126-SM-6LLJ9.1 & GTEX-15RJE-2826-SM-7KUM9.1 & GTEX-15UKP-1526-SM-6PAL9.1 & GTEX-16A39-0008-SM-EAZC9.1 & GTEX-16AAH-0626-SM-793C9.1 & ⋯ & GTEX-1LVAO-2726-SM-E9TJ8.1 & GTEX-1MCC2-1826-SM-DIPEX.1 & GTEX-1MUQO-0126-SM-EAZ58.1 & GTEX-1OJC3-0126-SM-E76QX.1 & GTEX-1PDJ9-1226-SM-EXUSX.1 & GTEX-1PPH7-2326-SM-EVYB8.1 & GTEX-1PPH8-0126-SM-EWRN8.1 & GTEX-1QMI2-0226-SM-EVYBX.1 & GTEX-1QP29-0626-SM-EWRMX.1 & GTEX-1QP67-1626-SM-EAZ3X.1\\\\\n",
       "  & <dbl> & <dbl> & <dbl> & <dbl> & <dbl> & <dbl> & <dbl> & <dbl> & <dbl> & <dbl> & ⋯ & <dbl> & <dbl> & <dbl> & <dbl> & <dbl> & <dbl> & <dbl> & <dbl> & <dbl> & <dbl>\\\\\n",
       "\\hline\n",
       "\tA1BG & 184 & 113 & 332 & 62 & 119 & 76 & 95 & 116 & 413 & 150 & ⋯ & 164 & 140 & 103 & 114 & 140 & 121 & 55 & 59 & 126 & 177\\\\\n",
       "\tA1BG-AS1 & 240 & 136 & 296 & 85 & 264 & 87 & 84 & 219 & 395 & 264 & ⋯ & 140 & 205 &  80 &  94 & 154 & 147 & 65 & 67 & 129 & 132\\\\\n",
       "\\end{tabular}\n"
      ],
      "text/markdown": [
       "\n",
       "A data.frame: 2 × 1710\n",
       "\n",
       "| <!--/--> | GTEX-OXRL-0008-SM-3NB29.1 &lt;dbl&gt; | GTEX-11P82-1426-SM-DTXFY.1 &lt;dbl&gt; | GTEX-1269C-0008-SM-5TDBY.1 &lt;dbl&gt; | GTEX-13O3O-0126-SM-E9J49.1 &lt;dbl&gt; | GTEX-14BMU-2226-SM-5TDE9.1 &lt;dbl&gt; | GTEX-14E7W-0126-SM-6LLJ9.1 &lt;dbl&gt; | GTEX-15RJE-2826-SM-7KUM9.1 &lt;dbl&gt; | GTEX-15UKP-1526-SM-6PAL9.1 &lt;dbl&gt; | GTEX-16A39-0008-SM-EAZC9.1 &lt;dbl&gt; | GTEX-16AAH-0626-SM-793C9.1 &lt;dbl&gt; | ⋯ ⋯ | GTEX-1LVAO-2726-SM-E9TJ8.1 &lt;dbl&gt; | GTEX-1MCC2-1826-SM-DIPEX.1 &lt;dbl&gt; | GTEX-1MUQO-0126-SM-EAZ58.1 &lt;dbl&gt; | GTEX-1OJC3-0126-SM-E76QX.1 &lt;dbl&gt; | GTEX-1PDJ9-1226-SM-EXUSX.1 &lt;dbl&gt; | GTEX-1PPH7-2326-SM-EVYB8.1 &lt;dbl&gt; | GTEX-1PPH8-0126-SM-EWRN8.1 &lt;dbl&gt; | GTEX-1QMI2-0226-SM-EVYBX.1 &lt;dbl&gt; | GTEX-1QP29-0626-SM-EWRMX.1 &lt;dbl&gt; | GTEX-1QP67-1626-SM-EAZ3X.1 &lt;dbl&gt; |\n",
       "|---|---|---|---|---|---|---|---|---|---|---|---|---|---|---|---|---|---|---|---|---|---|\n",
       "| A1BG | 184 | 113 | 332 | 62 | 119 | 76 | 95 | 116 | 413 | 150 | ⋯ | 164 | 140 | 103 | 114 | 140 | 121 | 55 | 59 | 126 | 177 |\n",
       "| A1BG-AS1 | 240 | 136 | 296 | 85 | 264 | 87 | 84 | 219 | 395 | 264 | ⋯ | 140 | 205 |  80 |  94 | 154 | 147 | 65 | 67 | 129 | 132 |\n",
       "\n"
      ],
      "text/plain": [
       "         GTEX-OXRL-0008-SM-3NB29.1 GTEX-11P82-1426-SM-DTXFY.1\n",
       "A1BG     184                       113                       \n",
       "A1BG-AS1 240                       136                       \n",
       "         GTEX-1269C-0008-SM-5TDBY.1 GTEX-13O3O-0126-SM-E9J49.1\n",
       "A1BG     332                        62                        \n",
       "A1BG-AS1 296                        85                        \n",
       "         GTEX-14BMU-2226-SM-5TDE9.1 GTEX-14E7W-0126-SM-6LLJ9.1\n",
       "A1BG     119                        76                        \n",
       "A1BG-AS1 264                        87                        \n",
       "         GTEX-15RJE-2826-SM-7KUM9.1 GTEX-15UKP-1526-SM-6PAL9.1\n",
       "A1BG     95                         116                       \n",
       "A1BG-AS1 84                         219                       \n",
       "         GTEX-16A39-0008-SM-EAZC9.1 GTEX-16AAH-0626-SM-793C9.1 ⋯\n",
       "A1BG     413                        150                        ⋯\n",
       "A1BG-AS1 395                        264                        ⋯\n",
       "         GTEX-1LVAO-2726-SM-E9TJ8.1 GTEX-1MCC2-1826-SM-DIPEX.1\n",
       "A1BG     164                        140                       \n",
       "A1BG-AS1 140                        205                       \n",
       "         GTEX-1MUQO-0126-SM-EAZ58.1 GTEX-1OJC3-0126-SM-E76QX.1\n",
       "A1BG     103                        114                       \n",
       "A1BG-AS1  80                         94                       \n",
       "         GTEX-1PDJ9-1226-SM-EXUSX.1 GTEX-1PPH7-2326-SM-EVYB8.1\n",
       "A1BG     140                        121                       \n",
       "A1BG-AS1 154                        147                       \n",
       "         GTEX-1PPH8-0126-SM-EWRN8.1 GTEX-1QMI2-0226-SM-EVYBX.1\n",
       "A1BG     55                         59                        \n",
       "A1BG-AS1 65                         67                        \n",
       "         GTEX-1QP29-0626-SM-EWRMX.1 GTEX-1QP67-1626-SM-EAZ3X.1\n",
       "A1BG     126                        177                       \n",
       "A1BG-AS1 129                        132                       "
      ]
     },
     "metadata": {},
     "output_type": "display_data"
    },
    {
     "data": {
      "text/html": [
       "<table class=\"dataframe\">\n",
       "<caption>A data.frame: 2 × 7</caption>\n",
       "<thead>\n",
       "\t<tr><th></th><th scope=col>external_id</th><th scope=col>study</th><th scope=col>gtex.run_acc</th><th scope=col>gtex.age</th><th scope=col>gtex.smtsd</th><th scope=col>age2</th><th scope=col>age_group</th></tr>\n",
       "\t<tr><th></th><th scope=col>&lt;chr&gt;</th><th scope=col>&lt;chr&gt;</th><th scope=col>&lt;chr&gt;</th><th scope=col>&lt;chr&gt;</th><th scope=col>&lt;chr&gt;</th><th scope=col>&lt;chr&gt;</th><th scope=col>&lt;chr&gt;</th></tr>\n",
       "</thead>\n",
       "<tbody>\n",
       "\t<tr><th scope=row>GTEX-OXRL-0008-SM-3NB29.1</th><td>GTEX-OXRL-0008-SM-3NB29.1 </td><td>SKIN</td><td>SRR813171</td><td>50-59</td><td>Cells - Cultured fibroblasts       </td><td>50</td><td>middle</td></tr>\n",
       "\t<tr><th scope=row>GTEX-11P82-1426-SM-DTXFY.1</th><td>GTEX-11P82-1426-SM-DTXFY.1</td><td>SKIN</td><td>NA       </td><td>20-29</td><td>Skin - Not Sun Exposed (Suprapubic)</td><td>20</td><td>young </td></tr>\n",
       "</tbody>\n",
       "</table>\n"
      ],
      "text/latex": [
       "A data.frame: 2 × 7\n",
       "\\begin{tabular}{r|lllllll}\n",
       "  & external\\_id & study & gtex.run\\_acc & gtex.age & gtex.smtsd & age2 & age\\_group\\\\\n",
       "  & <chr> & <chr> & <chr> & <chr> & <chr> & <chr> & <chr>\\\\\n",
       "\\hline\n",
       "\tGTEX-OXRL-0008-SM-3NB29.1 & GTEX-OXRL-0008-SM-3NB29.1  & SKIN & SRR813171 & 50-59 & Cells - Cultured fibroblasts        & 50 & middle\\\\\n",
       "\tGTEX-11P82-1426-SM-DTXFY.1 & GTEX-11P82-1426-SM-DTXFY.1 & SKIN & NA        & 20-29 & Skin - Not Sun Exposed (Suprapubic) & 20 & young \\\\\n",
       "\\end{tabular}\n"
      ],
      "text/markdown": [
       "\n",
       "A data.frame: 2 × 7\n",
       "\n",
       "| <!--/--> | external_id &lt;chr&gt; | study &lt;chr&gt; | gtex.run_acc &lt;chr&gt; | gtex.age &lt;chr&gt; | gtex.smtsd &lt;chr&gt; | age2 &lt;chr&gt; | age_group &lt;chr&gt; |\n",
       "|---|---|---|---|---|---|---|---|\n",
       "| GTEX-OXRL-0008-SM-3NB29.1 | GTEX-OXRL-0008-SM-3NB29.1  | SKIN | SRR813171 | 50-59 | Cells - Cultured fibroblasts        | 50 | middle |\n",
       "| GTEX-11P82-1426-SM-DTXFY.1 | GTEX-11P82-1426-SM-DTXFY.1 | SKIN | NA        | 20-29 | Skin - Not Sun Exposed (Suprapubic) | 20 | young  |\n",
       "\n"
      ],
      "text/plain": [
       "                           external_id                study gtex.run_acc\n",
       "GTEX-OXRL-0008-SM-3NB29.1  GTEX-OXRL-0008-SM-3NB29.1  SKIN  SRR813171   \n",
       "GTEX-11P82-1426-SM-DTXFY.1 GTEX-11P82-1426-SM-DTXFY.1 SKIN  NA          \n",
       "                           gtex.age gtex.smtsd                          age2\n",
       "GTEX-OXRL-0008-SM-3NB29.1  50-59    Cells - Cultured fibroblasts        50  \n",
       "GTEX-11P82-1426-SM-DTXFY.1 20-29    Skin - Not Sun Exposed (Suprapubic) 20  \n",
       "                           age_group\n",
       "GTEX-OXRL-0008-SM-3NB29.1  middle   \n",
       "GTEX-11P82-1426-SM-DTXFY.1 young    "
      ]
     },
     "metadata": {},
     "output_type": "display_data"
    }
   ],
   "source": [
    "library(Seurat)\n",
    "data=readRDS('../../../data/GTEX/gtex_skin_count_data.rds')\n",
    "col=readRDS('../../../data/GTEX/gtex_skin_colData.rds')\n",
    "head(data,2)\n",
    "head(col,2)"
   ]
  },
  {
   "cell_type": "code",
   "execution_count": 4,
   "id": "2e37e1af",
   "metadata": {},
   "outputs": [
    {
     "data": {
      "text/html": [
       "<table class=\"dataframe\">\n",
       "<caption>A data.frame: 2 × 7</caption>\n",
       "<thead>\n",
       "\t<tr><th></th><th scope=col>external_id</th><th scope=col>study</th><th scope=col>gtex.run_acc</th><th scope=col>gtex.age</th><th scope=col>gtex.smtsd</th><th scope=col>age2</th><th scope=col>age_group</th></tr>\n",
       "\t<tr><th></th><th scope=col>&lt;chr&gt;</th><th scope=col>&lt;chr&gt;</th><th scope=col>&lt;chr&gt;</th><th scope=col>&lt;chr&gt;</th><th scope=col>&lt;chr&gt;</th><th scope=col>&lt;chr&gt;</th><th scope=col>&lt;chr&gt;</th></tr>\n",
       "</thead>\n",
       "<tbody>\n",
       "\t<tr><th scope=row>GTEX-13O3O-0126-SM-E9J49.1</th><td>GTEX-13O3O-0126-SM-E9J49.1</td><td>SKIN</td><td>NA</td><td>60-69</td><td>Skin - Sun Exposed (Lower leg)</td><td>60</td><td>aged </td></tr>\n",
       "\t<tr><th scope=row>GTEX-14BMU-2226-SM-5TDE9.1</th><td>GTEX-14BMU-2226-SM-5TDE9.1</td><td>SKIN</td><td>NA</td><td>20-29</td><td>Skin - Sun Exposed (Lower leg)</td><td>20</td><td>young</td></tr>\n",
       "</tbody>\n",
       "</table>\n"
      ],
      "text/latex": [
       "A data.frame: 2 × 7\n",
       "\\begin{tabular}{r|lllllll}\n",
       "  & external\\_id & study & gtex.run\\_acc & gtex.age & gtex.smtsd & age2 & age\\_group\\\\\n",
       "  & <chr> & <chr> & <chr> & <chr> & <chr> & <chr> & <chr>\\\\\n",
       "\\hline\n",
       "\tGTEX-13O3O-0126-SM-E9J49.1 & GTEX-13O3O-0126-SM-E9J49.1 & SKIN & NA & 60-69 & Skin - Sun Exposed (Lower leg) & 60 & aged \\\\\n",
       "\tGTEX-14BMU-2226-SM-5TDE9.1 & GTEX-14BMU-2226-SM-5TDE9.1 & SKIN & NA & 20-29 & Skin - Sun Exposed (Lower leg) & 20 & young\\\\\n",
       "\\end{tabular}\n"
      ],
      "text/markdown": [
       "\n",
       "A data.frame: 2 × 7\n",
       "\n",
       "| <!--/--> | external_id &lt;chr&gt; | study &lt;chr&gt; | gtex.run_acc &lt;chr&gt; | gtex.age &lt;chr&gt; | gtex.smtsd &lt;chr&gt; | age2 &lt;chr&gt; | age_group &lt;chr&gt; |\n",
       "|---|---|---|---|---|---|---|---|\n",
       "| GTEX-13O3O-0126-SM-E9J49.1 | GTEX-13O3O-0126-SM-E9J49.1 | SKIN | NA | 60-69 | Skin - Sun Exposed (Lower leg) | 60 | aged  |\n",
       "| GTEX-14BMU-2226-SM-5TDE9.1 | GTEX-14BMU-2226-SM-5TDE9.1 | SKIN | NA | 20-29 | Skin - Sun Exposed (Lower leg) | 20 | young |\n",
       "\n"
      ],
      "text/plain": [
       "                           external_id                study gtex.run_acc\n",
       "GTEX-13O3O-0126-SM-E9J49.1 GTEX-13O3O-0126-SM-E9J49.1 SKIN  NA          \n",
       "GTEX-14BMU-2226-SM-5TDE9.1 GTEX-14BMU-2226-SM-5TDE9.1 SKIN  NA          \n",
       "                           gtex.age gtex.smtsd                     age2\n",
       "GTEX-13O3O-0126-SM-E9J49.1 60-69    Skin - Sun Exposed (Lower leg) 60  \n",
       "GTEX-14BMU-2226-SM-5TDE9.1 20-29    Skin - Sun Exposed (Lower leg) 20  \n",
       "                           age_group\n",
       "GTEX-13O3O-0126-SM-E9J49.1 aged     \n",
       "GTEX-14BMU-2226-SM-5TDE9.1 young    "
      ]
     },
     "metadata": {},
     "output_type": "display_data"
    },
    {
     "data": {
      "text/html": [
       "<table class=\"dataframe\">\n",
       "<caption>A data.frame: 2 × 604</caption>\n",
       "<thead>\n",
       "\t<tr><th></th><th scope=col>GTEX-13O3O-0126-SM-E9J49.1</th><th scope=col>GTEX-14BMU-2226-SM-5TDE9.1</th><th scope=col>GTEX-14E7W-0126-SM-6LLJ9.1</th><th scope=col>GTEX-16MT8-0426-SM-7KUEY.1</th><th scope=col>GTEX-1B933-0126-SM-7PC29.1</th><th scope=col>GTEX-1F5PK-2426-SM-7RHHY.1</th><th scope=col>GTEX-1GL5R-1826-SM-9KNUY.1</th><th scope=col>GTEX-1GPI6-0126-SM-9WG69.1</th><th scope=col>GTEX-1H3O1-0426-SM-9YFKY.1</th><th scope=col>GTEX-1HCU8-0626-SM-A9SM9.1</th><th scope=col>⋯</th><th scope=col>GTEX-1IL2U-0226-SM-CE6T8.1</th><th scope=col>GTEX-1IL2V-0126-SM-CM2TX.1</th><th scope=col>GTEX-1JJ6O-0126-SM-E6CI8.1</th><th scope=col>GTEX-1JN6P-0126-SM-D3L98.1</th><th scope=col>GTEX-1MUQO-0126-SM-EAZ58.1</th><th scope=col>GTEX-1OJC3-0126-SM-E76QX.1</th><th scope=col>GTEX-1PPH7-2326-SM-EVYB8.1</th><th scope=col>GTEX-1QMI2-0226-SM-EVYBX.1</th><th scope=col>GTEX-1QP29-0626-SM-EWRMX.1</th><th scope=col>GTEX-1QP67-1626-SM-EAZ3X.1</th></tr>\n",
       "\t<tr><th></th><th scope=col>&lt;dbl&gt;</th><th scope=col>&lt;dbl&gt;</th><th scope=col>&lt;dbl&gt;</th><th scope=col>&lt;dbl&gt;</th><th scope=col>&lt;dbl&gt;</th><th scope=col>&lt;dbl&gt;</th><th scope=col>&lt;dbl&gt;</th><th scope=col>&lt;dbl&gt;</th><th scope=col>&lt;dbl&gt;</th><th scope=col>&lt;dbl&gt;</th><th scope=col>⋯</th><th scope=col>&lt;dbl&gt;</th><th scope=col>&lt;dbl&gt;</th><th scope=col>&lt;dbl&gt;</th><th scope=col>&lt;dbl&gt;</th><th scope=col>&lt;dbl&gt;</th><th scope=col>&lt;dbl&gt;</th><th scope=col>&lt;dbl&gt;</th><th scope=col>&lt;dbl&gt;</th><th scope=col>&lt;dbl&gt;</th><th scope=col>&lt;dbl&gt;</th></tr>\n",
       "</thead>\n",
       "<tbody>\n",
       "\t<tr><th scope=row>A1BG</th><td>62</td><td>119</td><td>76</td><td>81</td><td>261</td><td>133</td><td> 68</td><td>93</td><td>84</td><td> 71</td><td>⋯</td><td> 81</td><td>66</td><td>49</td><td>81</td><td>103</td><td>114</td><td>121</td><td>59</td><td>126</td><td>177</td></tr>\n",
       "\t<tr><th scope=row>A1BG-AS1</th><td>85</td><td>264</td><td>87</td><td>89</td><td>290</td><td>204</td><td>119</td><td>82</td><td>60</td><td>111</td><td>⋯</td><td>108</td><td>58</td><td>88</td><td>70</td><td> 80</td><td> 94</td><td>147</td><td>67</td><td>129</td><td>132</td></tr>\n",
       "</tbody>\n",
       "</table>\n"
      ],
      "text/latex": [
       "A data.frame: 2 × 604\n",
       "\\begin{tabular}{r|lllllllllllllllllllll}\n",
       "  & GTEX-13O3O-0126-SM-E9J49.1 & GTEX-14BMU-2226-SM-5TDE9.1 & GTEX-14E7W-0126-SM-6LLJ9.1 & GTEX-16MT8-0426-SM-7KUEY.1 & GTEX-1B933-0126-SM-7PC29.1 & GTEX-1F5PK-2426-SM-7RHHY.1 & GTEX-1GL5R-1826-SM-9KNUY.1 & GTEX-1GPI6-0126-SM-9WG69.1 & GTEX-1H3O1-0426-SM-9YFKY.1 & GTEX-1HCU8-0626-SM-A9SM9.1 & ⋯ & GTEX-1IL2U-0226-SM-CE6T8.1 & GTEX-1IL2V-0126-SM-CM2TX.1 & GTEX-1JJ6O-0126-SM-E6CI8.1 & GTEX-1JN6P-0126-SM-D3L98.1 & GTEX-1MUQO-0126-SM-EAZ58.1 & GTEX-1OJC3-0126-SM-E76QX.1 & GTEX-1PPH7-2326-SM-EVYB8.1 & GTEX-1QMI2-0226-SM-EVYBX.1 & GTEX-1QP29-0626-SM-EWRMX.1 & GTEX-1QP67-1626-SM-EAZ3X.1\\\\\n",
       "  & <dbl> & <dbl> & <dbl> & <dbl> & <dbl> & <dbl> & <dbl> & <dbl> & <dbl> & <dbl> & ⋯ & <dbl> & <dbl> & <dbl> & <dbl> & <dbl> & <dbl> & <dbl> & <dbl> & <dbl> & <dbl>\\\\\n",
       "\\hline\n",
       "\tA1BG & 62 & 119 & 76 & 81 & 261 & 133 &  68 & 93 & 84 &  71 & ⋯ &  81 & 66 & 49 & 81 & 103 & 114 & 121 & 59 & 126 & 177\\\\\n",
       "\tA1BG-AS1 & 85 & 264 & 87 & 89 & 290 & 204 & 119 & 82 & 60 & 111 & ⋯ & 108 & 58 & 88 & 70 &  80 &  94 & 147 & 67 & 129 & 132\\\\\n",
       "\\end{tabular}\n"
      ],
      "text/markdown": [
       "\n",
       "A data.frame: 2 × 604\n",
       "\n",
       "| <!--/--> | GTEX-13O3O-0126-SM-E9J49.1 &lt;dbl&gt; | GTEX-14BMU-2226-SM-5TDE9.1 &lt;dbl&gt; | GTEX-14E7W-0126-SM-6LLJ9.1 &lt;dbl&gt; | GTEX-16MT8-0426-SM-7KUEY.1 &lt;dbl&gt; | GTEX-1B933-0126-SM-7PC29.1 &lt;dbl&gt; | GTEX-1F5PK-2426-SM-7RHHY.1 &lt;dbl&gt; | GTEX-1GL5R-1826-SM-9KNUY.1 &lt;dbl&gt; | GTEX-1GPI6-0126-SM-9WG69.1 &lt;dbl&gt; | GTEX-1H3O1-0426-SM-9YFKY.1 &lt;dbl&gt; | GTEX-1HCU8-0626-SM-A9SM9.1 &lt;dbl&gt; | ⋯ ⋯ | GTEX-1IL2U-0226-SM-CE6T8.1 &lt;dbl&gt; | GTEX-1IL2V-0126-SM-CM2TX.1 &lt;dbl&gt; | GTEX-1JJ6O-0126-SM-E6CI8.1 &lt;dbl&gt; | GTEX-1JN6P-0126-SM-D3L98.1 &lt;dbl&gt; | GTEX-1MUQO-0126-SM-EAZ58.1 &lt;dbl&gt; | GTEX-1OJC3-0126-SM-E76QX.1 &lt;dbl&gt; | GTEX-1PPH7-2326-SM-EVYB8.1 &lt;dbl&gt; | GTEX-1QMI2-0226-SM-EVYBX.1 &lt;dbl&gt; | GTEX-1QP29-0626-SM-EWRMX.1 &lt;dbl&gt; | GTEX-1QP67-1626-SM-EAZ3X.1 &lt;dbl&gt; |\n",
       "|---|---|---|---|---|---|---|---|---|---|---|---|---|---|---|---|---|---|---|---|---|---|\n",
       "| A1BG | 62 | 119 | 76 | 81 | 261 | 133 |  68 | 93 | 84 |  71 | ⋯ |  81 | 66 | 49 | 81 | 103 | 114 | 121 | 59 | 126 | 177 |\n",
       "| A1BG-AS1 | 85 | 264 | 87 | 89 | 290 | 204 | 119 | 82 | 60 | 111 | ⋯ | 108 | 58 | 88 | 70 |  80 |  94 | 147 | 67 | 129 | 132 |\n",
       "\n"
      ],
      "text/plain": [
       "         GTEX-13O3O-0126-SM-E9J49.1 GTEX-14BMU-2226-SM-5TDE9.1\n",
       "A1BG     62                         119                       \n",
       "A1BG-AS1 85                         264                       \n",
       "         GTEX-14E7W-0126-SM-6LLJ9.1 GTEX-16MT8-0426-SM-7KUEY.1\n",
       "A1BG     76                         81                        \n",
       "A1BG-AS1 87                         89                        \n",
       "         GTEX-1B933-0126-SM-7PC29.1 GTEX-1F5PK-2426-SM-7RHHY.1\n",
       "A1BG     261                        133                       \n",
       "A1BG-AS1 290                        204                       \n",
       "         GTEX-1GL5R-1826-SM-9KNUY.1 GTEX-1GPI6-0126-SM-9WG69.1\n",
       "A1BG      68                        93                        \n",
       "A1BG-AS1 119                        82                        \n",
       "         GTEX-1H3O1-0426-SM-9YFKY.1 GTEX-1HCU8-0626-SM-A9SM9.1 ⋯\n",
       "A1BG     84                          71                        ⋯\n",
       "A1BG-AS1 60                         111                        ⋯\n",
       "         GTEX-1IL2U-0226-SM-CE6T8.1 GTEX-1IL2V-0126-SM-CM2TX.1\n",
       "A1BG      81                        66                        \n",
       "A1BG-AS1 108                        58                        \n",
       "         GTEX-1JJ6O-0126-SM-E6CI8.1 GTEX-1JN6P-0126-SM-D3L98.1\n",
       "A1BG     49                         81                        \n",
       "A1BG-AS1 88                         70                        \n",
       "         GTEX-1MUQO-0126-SM-EAZ58.1 GTEX-1OJC3-0126-SM-E76QX.1\n",
       "A1BG     103                        114                       \n",
       "A1BG-AS1  80                         94                       \n",
       "         GTEX-1PPH7-2326-SM-EVYB8.1 GTEX-1QMI2-0226-SM-EVYBX.1\n",
       "A1BG     121                        59                        \n",
       "A1BG-AS1 147                        67                        \n",
       "         GTEX-1QP29-0626-SM-EWRMX.1 GTEX-1QP67-1626-SM-EAZ3X.1\n",
       "A1BG     126                        177                       \n",
       "A1BG-AS1 129                        132                       "
      ]
     },
     "metadata": {},
     "output_type": "display_data"
    },
    {
     "data": {
      "text/plain": [
       "\n",
       "TRUE \n",
       " 604 "
      ]
     },
     "metadata": {},
     "output_type": "display_data"
    }
   ],
   "source": [
    "col2=col[col$gtex.smtsd=='Skin - Sun Exposed (Lower leg)',]\n",
    "head(col2,2)\n",
    "data2=data[,rownames(col2)]\n",
    "head(data2,2)\n",
    "table(rownames(col2)==colnames(data2))"
   ]
  },
  {
   "cell_type": "markdown",
   "id": "2359bfe9",
   "metadata": {},
   "source": [
    "# 取aged and young 做deg"
   ]
  },
  {
   "cell_type": "code",
   "execution_count": 7,
   "id": "70461347",
   "metadata": {},
   "outputs": [
    {
     "data": {
      "text/html": [
       "<table class=\"dataframe\">\n",
       "<caption>A data.frame: 6 × 1</caption>\n",
       "<thead>\n",
       "\t<tr><th></th><th scope=col>condition</th></tr>\n",
       "\t<tr><th></th><th scope=col>&lt;fct&gt;</th></tr>\n",
       "</thead>\n",
       "<tbody>\n",
       "\t<tr><th scope=row>GTEX-13O3O-0126-SM-E9J49.1</th><td>aged </td></tr>\n",
       "\t<tr><th scope=row>GTEX-14BMU-2226-SM-5TDE9.1</th><td>young</td></tr>\n",
       "\t<tr><th scope=row>GTEX-14E7W-0126-SM-6LLJ9.1</th><td>aged </td></tr>\n",
       "\t<tr><th scope=row>GTEX-16MT8-0426-SM-7KUEY.1</th><td>aged </td></tr>\n",
       "\t<tr><th scope=row>GTEX-1GPI6-0126-SM-9WG69.1</th><td>aged </td></tr>\n",
       "\t<tr><th scope=row>GTEX-1H3O1-0426-SM-9YFKY.1</th><td>aged </td></tr>\n",
       "</tbody>\n",
       "</table>\n"
      ],
      "text/latex": [
       "A data.frame: 6 × 1\n",
       "\\begin{tabular}{r|l}\n",
       "  & condition\\\\\n",
       "  & <fct>\\\\\n",
       "\\hline\n",
       "\tGTEX-13O3O-0126-SM-E9J49.1 & aged \\\\\n",
       "\tGTEX-14BMU-2226-SM-5TDE9.1 & young\\\\\n",
       "\tGTEX-14E7W-0126-SM-6LLJ9.1 & aged \\\\\n",
       "\tGTEX-16MT8-0426-SM-7KUEY.1 & aged \\\\\n",
       "\tGTEX-1GPI6-0126-SM-9WG69.1 & aged \\\\\n",
       "\tGTEX-1H3O1-0426-SM-9YFKY.1 & aged \\\\\n",
       "\\end{tabular}\n"
      ],
      "text/markdown": [
       "\n",
       "A data.frame: 6 × 1\n",
       "\n",
       "| <!--/--> | condition &lt;fct&gt; |\n",
       "|---|---|\n",
       "| GTEX-13O3O-0126-SM-E9J49.1 | aged  |\n",
       "| GTEX-14BMU-2226-SM-5TDE9.1 | young |\n",
       "| GTEX-14E7W-0126-SM-6LLJ9.1 | aged  |\n",
       "| GTEX-16MT8-0426-SM-7KUEY.1 | aged  |\n",
       "| GTEX-1GPI6-0126-SM-9WG69.1 | aged  |\n",
       "| GTEX-1H3O1-0426-SM-9YFKY.1 | aged  |\n",
       "\n"
      ],
      "text/plain": [
       "                           condition\n",
       "GTEX-13O3O-0126-SM-E9J49.1 aged     \n",
       "GTEX-14BMU-2226-SM-5TDE9.1 young    \n",
       "GTEX-14E7W-0126-SM-6LLJ9.1 aged     \n",
       "GTEX-16MT8-0426-SM-7KUEY.1 aged     \n",
       "GTEX-1GPI6-0126-SM-9WG69.1 aged     \n",
       "GTEX-1H3O1-0426-SM-9YFKY.1 aged     "
      ]
     },
     "metadata": {},
     "output_type": "display_data"
    },
    {
     "data": {
      "text/html": [
       "<style>\n",
       ".list-inline {list-style: none; margin:0; padding: 0}\n",
       ".list-inline>li {display: inline-block}\n",
       ".list-inline>li:not(:last-child)::after {content: \"\\00b7\"; padding: 0 .5ex}\n",
       "</style>\n",
       "<ol class=list-inline><li>337</li><li>1</li></ol>\n"
      ],
      "text/latex": [
       "\\begin{enumerate*}\n",
       "\\item 337\n",
       "\\item 1\n",
       "\\end{enumerate*}\n"
      ],
      "text/markdown": [
       "1. 337\n",
       "2. 1\n",
       "\n",
       "\n"
      ],
      "text/plain": [
       "[1] 337   1"
      ]
     },
     "metadata": {},
     "output_type": "display_data"
    },
    {
     "data": {
      "text/html": [
       "<style>\n",
       ".list-inline {list-style: none; margin:0; padding: 0}\n",
       ".list-inline>li {display: inline-block}\n",
       ".list-inline>li:not(:last-child)::after {content: \"\\00b7\"; padding: 0 .5ex}\n",
       "</style>\n",
       "<ol class=list-inline><li>337</li><li>1</li></ol>\n"
      ],
      "text/latex": [
       "\\begin{enumerate*}\n",
       "\\item 337\n",
       "\\item 1\n",
       "\\end{enumerate*}\n"
      ],
      "text/markdown": [
       "1. 337\n",
       "2. 1\n",
       "\n",
       "\n"
      ],
      "text/plain": [
       "[1] 337   1"
      ]
     },
     "metadata": {},
     "output_type": "display_data"
    },
    {
     "data": {
      "text/plain": [
       "\n",
       "TRUE \n",
       " 337 "
      ]
     },
     "metadata": {},
     "output_type": "display_data"
    }
   ],
   "source": [
    "colData=col2[col2$age_group!='middle',c('external_id','age_group')]\n",
    "condition=factor(colData$age_group)\n",
    "condition = relevel( condition, \"young\")\n",
    "colData=data.frame(row.names=rownames(colData),condition)\n",
    "head(colData)\n",
    "dim(colData)\n",
    "countData=data2[,rownames(colData)]\n",
    "dim(colData)\n",
    "table(rownames(colData)==colnames(countData))"
   ]
  },
  {
   "cell_type": "code",
   "execution_count": 8,
   "id": "7c1cd2d0",
   "metadata": {},
   "outputs": [
    {
     "name": "stderr",
     "output_type": "stream",
     "text": [
      "Loading required package: limma\n",
      "\n"
     ]
    }
   ],
   "source": [
    "###################################去除低表达和表达比例低的gene;并取整\n",
    "library(edgeR)\n",
    "countData <- countData[rowMeans(countData)>1,]\n",
    "#keep <- filterByExpr(countData,min.count = 5)  \n",
    "#countData=countData[keep,]\n",
    "countData=round(countData)"
   ]
  },
  {
   "cell_type": "markdown",
   "id": "95b2d814",
   "metadata": {},
   "source": [
    "# 差异分析"
   ]
  },
  {
   "cell_type": "code",
   "execution_count": 9,
   "id": "85931694",
   "metadata": {},
   "outputs": [
    {
     "name": "stderr",
     "output_type": "stream",
     "text": [
      "Loading required package: S4Vectors\n",
      "\n",
      "Loading required package: stats4\n",
      "\n",
      "Loading required package: BiocGenerics\n",
      "\n",
      "\n",
      "Attaching package: ‘BiocGenerics’\n",
      "\n",
      "\n",
      "The following object is masked from ‘package:limma’:\n",
      "\n",
      "    plotMA\n",
      "\n",
      "\n",
      "The following objects are masked from ‘package:stats’:\n",
      "\n",
      "    IQR, mad, sd, var, xtabs\n",
      "\n",
      "\n",
      "The following objects are masked from ‘package:base’:\n",
      "\n",
      "    anyDuplicated, append, as.data.frame, basename, cbind, colnames,\n",
      "    dirname, do.call, duplicated, eval, evalq, Filter, Find, get, grep,\n",
      "    grepl, intersect, is.unsorted, lapply, Map, mapply, match, mget,\n",
      "    order, paste, pmax, pmax.int, pmin, pmin.int, Position, rank,\n",
      "    rbind, Reduce, rownames, sapply, setdiff, sort, table, tapply,\n",
      "    union, unique, unsplit, which.max, which.min\n",
      "\n",
      "\n",
      "\n",
      "Attaching package: ‘S4Vectors’\n",
      "\n",
      "\n",
      "The following objects are masked from ‘package:base’:\n",
      "\n",
      "    expand.grid, I, unname\n",
      "\n",
      "\n",
      "Loading required package: IRanges\n",
      "\n",
      "Loading required package: GenomicRanges\n",
      "\n",
      "Loading required package: GenomeInfoDb\n",
      "\n",
      "Loading required package: SummarizedExperiment\n",
      "\n",
      "Loading required package: MatrixGenerics\n",
      "\n",
      "Loading required package: matrixStats\n",
      "\n",
      "\n",
      "Attaching package: ‘MatrixGenerics’\n",
      "\n",
      "\n",
      "The following objects are masked from ‘package:matrixStats’:\n",
      "\n",
      "    colAlls, colAnyNAs, colAnys, colAvgsPerRowSet, colCollapse,\n",
      "    colCounts, colCummaxs, colCummins, colCumprods, colCumsums,\n",
      "    colDiffs, colIQRDiffs, colIQRs, colLogSumExps, colMadDiffs,\n",
      "    colMads, colMaxs, colMeans2, colMedians, colMins, colOrderStats,\n",
      "    colProds, colQuantiles, colRanges, colRanks, colSdDiffs, colSds,\n",
      "    colSums2, colTabulates, colVarDiffs, colVars, colWeightedMads,\n",
      "    colWeightedMeans, colWeightedMedians, colWeightedSds,\n",
      "    colWeightedVars, rowAlls, rowAnyNAs, rowAnys, rowAvgsPerColSet,\n",
      "    rowCollapse, rowCounts, rowCummaxs, rowCummins, rowCumprods,\n",
      "    rowCumsums, rowDiffs, rowIQRDiffs, rowIQRs, rowLogSumExps,\n",
      "    rowMadDiffs, rowMads, rowMaxs, rowMeans2, rowMedians, rowMins,\n",
      "    rowOrderStats, rowProds, rowQuantiles, rowRanges, rowRanks,\n",
      "    rowSdDiffs, rowSds, rowSums2, rowTabulates, rowVarDiffs, rowVars,\n",
      "    rowWeightedMads, rowWeightedMeans, rowWeightedMedians,\n",
      "    rowWeightedSds, rowWeightedVars\n",
      "\n",
      "\n",
      "Loading required package: Biobase\n",
      "\n",
      "Welcome to Bioconductor\n",
      "\n",
      "    Vignettes contain introductory material; view with\n",
      "    'browseVignettes()'. To cite Bioconductor, see\n",
      "    'citation(\"Biobase\")', and for packages 'citation(\"pkgname\")'.\n",
      "\n",
      "\n",
      "\n",
      "Attaching package: ‘Biobase’\n",
      "\n",
      "\n",
      "The following object is masked from ‘package:MatrixGenerics’:\n",
      "\n",
      "    rowMedians\n",
      "\n",
      "\n",
      "The following objects are masked from ‘package:matrixStats’:\n",
      "\n",
      "    anyMissing, rowMedians\n",
      "\n",
      "\n",
      "\n",
      "Attaching package: ‘SummarizedExperiment’\n",
      "\n",
      "\n",
      "The following object is masked from ‘package:SeuratObject’:\n",
      "\n",
      "    Assays\n",
      "\n",
      "\n",
      "The following object is masked from ‘package:Seurat’:\n",
      "\n",
      "    Assays\n",
      "\n",
      "\n",
      "converting counts to integer mode\n",
      "\n"
     ]
    },
    {
     "data": {
      "text/plain": [
       "class: DESeqDataSet \n",
       "dim: 6 337 \n",
       "metadata(1): version\n",
       "assays(1): counts\n",
       "rownames(6): A1BG A1BG-AS1 ... A2M-AS1 A2ML1\n",
       "rowData names(0):\n",
       "colnames(337): GTEX-13O3O-0126-SM-E9J49.1 GTEX-14BMU-2226-SM-5TDE9.1\n",
       "  ... GTEX-1OJC3-0126-SM-E76QX.1 GTEX-1QMI2-0226-SM-EVYBX.1\n",
       "colData names(1): condition"
      ]
     },
     "metadata": {},
     "output_type": "display_data"
    }
   ],
   "source": [
    "library(DESeq2)\n",
    "dds <- DESeqDataSetFromMatrix(countData = countData, colData = colData, design = ~ condition)\n",
    "#dds$condition <- relevel(dds$condition, ref = \"young\")\n",
    "head(dds)"
   ]
  },
  {
   "cell_type": "code",
   "execution_count": 10,
   "id": "b1877ac7",
   "metadata": {},
   "outputs": [
    {
     "name": "stderr",
     "output_type": "stream",
     "text": [
      "estimating size factors\n",
      "\n",
      "estimating dispersions\n",
      "\n",
      "gene-wise dispersion estimates\n",
      "\n",
      "mean-dispersion relationship\n",
      "\n",
      "final dispersion estimates\n",
      "\n",
      "fitting model and testing\n",
      "\n",
      "-- replacing outliers and refitting for 1469 genes\n",
      "-- DESeq argument 'minReplicatesForReplace' = 7 \n",
      "-- original counts are preserved in counts(dds)\n",
      "\n",
      "estimating dispersions\n",
      "\n",
      "fitting model and testing\n",
      "\n"
     ]
    }
   ],
   "source": [
    "########### 计算差异倍数\n",
    "dds1 <- DESeq(dds) "
   ]
  },
  {
   "cell_type": "code",
   "execution_count": 11,
   "id": "2ab096e2",
   "metadata": {},
   "outputs": [
    {
     "data": {
      "text/html": [
       "<style>\n",
       ".list-inline {list-style: none; margin:0; padding: 0}\n",
       ".list-inline>li {display: inline-block}\n",
       ".list-inline>li:not(:last-child)::after {content: \"\\00b7\"; padding: 0 .5ex}\n",
       "</style>\n",
       "<ol class=list-inline><li>'Intercept'</li><li>'condition_aged_vs_young'</li></ol>\n"
      ],
      "text/latex": [
       "\\begin{enumerate*}\n",
       "\\item 'Intercept'\n",
       "\\item 'condition\\_aged\\_vs\\_young'\n",
       "\\end{enumerate*}\n"
      ],
      "text/markdown": [
       "1. 'Intercept'\n",
       "2. 'condition_aged_vs_young'\n",
       "\n",
       "\n"
      ],
      "text/plain": [
       "[1] \"Intercept\"               \"condition_aged_vs_young\""
      ]
     },
     "metadata": {},
     "output_type": "display_data"
    }
   ],
   "source": [
    "resultsNames(dds1)"
   ]
  },
  {
   "cell_type": "code",
   "execution_count": 12,
   "id": "1dbc8112",
   "metadata": {},
   "outputs": [
    {
     "data": {
      "text/html": [
       "<style>\n",
       ".list-inline {list-style: none; margin:0; padding: 0}\n",
       ".list-inline>li {display: inline-block}\n",
       ".list-inline>li:not(:last-child)::after {content: \"\\00b7\"; padding: 0 .5ex}\n",
       "</style>\n",
       "<ol class=list-inline><li>906</li><li>6</li></ol>\n"
      ],
      "text/latex": [
       "\\begin{enumerate*}\n",
       "\\item 906\n",
       "\\item 6\n",
       "\\end{enumerate*}\n"
      ],
      "text/markdown": [
       "1. 906\n",
       "2. 6\n",
       "\n",
       "\n"
      ],
      "text/plain": [
       "[1] 906   6"
      ]
     },
     "metadata": {},
     "output_type": "display_data"
    },
    {
     "data": {
      "text/html": [
       "<table class=\"dataframe\">\n",
       "<caption>A data.frame: 6 × 6</caption>\n",
       "<thead>\n",
       "\t<tr><th></th><th scope=col>baseMean</th><th scope=col>log2FoldChange</th><th scope=col>lfcSE</th><th scope=col>stat</th><th scope=col>pvalue</th><th scope=col>padj</th></tr>\n",
       "\t<tr><th></th><th scope=col>&lt;dbl&gt;</th><th scope=col>&lt;dbl&gt;</th><th scope=col>&lt;dbl&gt;</th><th scope=col>&lt;dbl&gt;</th><th scope=col>&lt;dbl&gt;</th><th scope=col>&lt;dbl&gt;</th></tr>\n",
       "</thead>\n",
       "<tbody>\n",
       "\t<tr><th scope=row>ABI3BP</th><td> 1622.579529</td><td> 0.17477331</td><td>0.11158315</td><td> 1.5663056</td><td>1.172771e-01</td><td>2.268220e-01</td></tr>\n",
       "\t<tr><th scope=row>ADIPOQ</th><td>  688.977439</td><td>-1.63663070</td><td>0.23567036</td><td>-6.9445759</td><td>3.795990e-12</td><td>8.443603e-10</td></tr>\n",
       "\t<tr><th scope=row>AEBP1</th><td>10583.544978</td><td> 0.38044568</td><td>0.10624422</td><td> 3.5808600</td><td>3.424651e-04</td><td>2.450873e-03</td></tr>\n",
       "\t<tr><th scope=row>AGRN</th><td> 3572.581320</td><td> 0.13622887</td><td>0.05027357</td><td> 2.7097511</td><td>6.733371e-03</td><td>2.563471e-02</td></tr>\n",
       "\t<tr><th scope=row>AMBN</th><td>    2.615278</td><td>-1.43925722</td><td>0.55931486</td><td>-2.5732504</td><td>1.007483e-02</td><td>3.487335e-02</td></tr>\n",
       "\t<tr><th scope=row>BGLAP</th><td>   75.403667</td><td>-0.05769253</td><td>0.07246429</td><td>-0.7961512</td><td>4.259441e-01</td><td>5.742411e-01</td></tr>\n",
       "</tbody>\n",
       "</table>\n"
      ],
      "text/latex": [
       "A data.frame: 6 × 6\n",
       "\\begin{tabular}{r|llllll}\n",
       "  & baseMean & log2FoldChange & lfcSE & stat & pvalue & padj\\\\\n",
       "  & <dbl> & <dbl> & <dbl> & <dbl> & <dbl> & <dbl>\\\\\n",
       "\\hline\n",
       "\tABI3BP &  1622.579529 &  0.17477331 & 0.11158315 &  1.5663056 & 1.172771e-01 & 2.268220e-01\\\\\n",
       "\tADIPOQ &   688.977439 & -1.63663070 & 0.23567036 & -6.9445759 & 3.795990e-12 & 8.443603e-10\\\\\n",
       "\tAEBP1 & 10583.544978 &  0.38044568 & 0.10624422 &  3.5808600 & 3.424651e-04 & 2.450873e-03\\\\\n",
       "\tAGRN &  3572.581320 &  0.13622887 & 0.05027357 &  2.7097511 & 6.733371e-03 & 2.563471e-02\\\\\n",
       "\tAMBN &     2.615278 & -1.43925722 & 0.55931486 & -2.5732504 & 1.007483e-02 & 3.487335e-02\\\\\n",
       "\tBGLAP &    75.403667 & -0.05769253 & 0.07246429 & -0.7961512 & 4.259441e-01 & 5.742411e-01\\\\\n",
       "\\end{tabular}\n"
      ],
      "text/markdown": [
       "\n",
       "A data.frame: 6 × 6\n",
       "\n",
       "| <!--/--> | baseMean &lt;dbl&gt; | log2FoldChange &lt;dbl&gt; | lfcSE &lt;dbl&gt; | stat &lt;dbl&gt; | pvalue &lt;dbl&gt; | padj &lt;dbl&gt; |\n",
       "|---|---|---|---|---|---|---|\n",
       "| ABI3BP |  1622.579529 |  0.17477331 | 0.11158315 |  1.5663056 | 1.172771e-01 | 2.268220e-01 |\n",
       "| ADIPOQ |   688.977439 | -1.63663070 | 0.23567036 | -6.9445759 | 3.795990e-12 | 8.443603e-10 |\n",
       "| AEBP1 | 10583.544978 |  0.38044568 | 0.10624422 |  3.5808600 | 3.424651e-04 | 2.450873e-03 |\n",
       "| AGRN |  3572.581320 |  0.13622887 | 0.05027357 |  2.7097511 | 6.733371e-03 | 2.563471e-02 |\n",
       "| AMBN |     2.615278 | -1.43925722 | 0.55931486 | -2.5732504 | 1.007483e-02 | 3.487335e-02 |\n",
       "| BGLAP |    75.403667 | -0.05769253 | 0.07246429 | -0.7961512 | 4.259441e-01 | 5.742411e-01 |\n",
       "\n"
      ],
      "text/plain": [
       "       baseMean     log2FoldChange lfcSE      stat       pvalue      \n",
       "ABI3BP  1622.579529  0.17477331    0.11158315  1.5663056 1.172771e-01\n",
       "ADIPOQ   688.977439 -1.63663070    0.23567036 -6.9445759 3.795990e-12\n",
       "AEBP1  10583.544978  0.38044568    0.10624422  3.5808600 3.424651e-04\n",
       "AGRN    3572.581320  0.13622887    0.05027357  2.7097511 6.733371e-03\n",
       "AMBN       2.615278 -1.43925722    0.55931486 -2.5732504 1.007483e-02\n",
       "BGLAP     75.403667 -0.05769253    0.07246429 -0.7961512 4.259441e-01\n",
       "       padj        \n",
       "ABI3BP 2.268220e-01\n",
       "ADIPOQ 8.443603e-10\n",
       "AEBP1  2.450873e-03\n",
       "AGRN   2.563471e-02\n",
       "AMBN   3.487335e-02\n",
       "BGLAP  5.742411e-01"
      ]
     },
     "metadata": {},
     "output_type": "display_data"
    }
   ],
   "source": [
    "#将结果用result()函数来获取\n",
    "#res <- lfcShrink(dds1, coef=\"condition_aged_vs_young\", type=\"apeglm\")\n",
    "res <- results(dds1)\n",
    "# res格式转化：用data.frame转化为表格形式\n",
    "res1 <- data.frame(res, stringsAsFactors = FALSE, check.names = FALSE)\n",
    "# 依次按照pvalue值log2FoldChange值进行排序\n",
    "res1 <- res1[order(res1$pvalue, res1$log2FoldChange, decreasing = c(FALSE, TRUE)), ]\n",
    "res2=res1"
   ]
  },
  {
   "cell_type": "markdown",
   "id": "70cb4170",
   "metadata": {},
   "source": [
    "# 所有基因"
   ]
  },
  {
   "cell_type": "code",
   "execution_count": 18,
   "id": "dde59a8c",
   "metadata": {},
   "outputs": [
    {
     "data": {
      "text/plain": [
       "\n",
       "FALSE  TRUE \n",
       "25191   389 "
      ]
     },
     "metadata": {},
     "output_type": "display_data"
    },
    {
     "data": {
      "text/plain": [
       "\n",
       "FALSE  TRUE \n",
       "24235  1345 "
      ]
     },
     "metadata": {},
     "output_type": "display_data"
    },
    {
     "data": {
      "text/plain": [
       "\n",
       "FALSE  TRUE \n",
       "21208  4372 "
      ]
     },
     "metadata": {},
     "output_type": "display_data"
    },
    {
     "data": {
      "text/plain": [
       "\n",
       "FALSE  TRUE \n",
       "17845  7735 "
      ]
     },
     "metadata": {},
     "output_type": "display_data"
    }
   ],
   "source": [
    "table(abs(res2$log2FoldChange)>1& res2$padj < 0.05)\n",
    "table(abs(res2$log2FoldChange)>0.58& res2$padj < 0.05)\n",
    "table(abs(res2$log2FoldChange)>0.25& res2$padj < 0.05)\n",
    "table(abs(res2$log2FoldChange)>0.1& res2$padj < 0.05)"
   ]
  },
  {
   "cell_type": "code",
   "execution_count": 20,
   "id": "002ee2a6",
   "metadata": {},
   "outputs": [
    {
     "data": {
      "text/html": [
       "<table class=\"dataframe\">\n",
       "<caption>A data.frame: 2 × 6</caption>\n",
       "<thead>\n",
       "\t<tr><th></th><th scope=col>baseMean</th><th scope=col>log2FoldChange</th><th scope=col>lfcSE</th><th scope=col>stat</th><th scope=col>pvalue</th><th scope=col>padj</th></tr>\n",
       "\t<tr><th></th><th scope=col>&lt;dbl&gt;</th><th scope=col>&lt;dbl&gt;</th><th scope=col>&lt;dbl&gt;</th><th scope=col>&lt;dbl&gt;</th><th scope=col>&lt;dbl&gt;</th><th scope=col>&lt;dbl&gt;</th></tr>\n",
       "</thead>\n",
       "<tbody>\n",
       "\t<tr><th scope=row>LHFPL4</th><td>15.38575</td><td>1.671662</td><td>0.1232942</td><td>13.55831</td><td>7.074325e-42</td><td>1.809612e-37</td></tr>\n",
       "\t<tr><th scope=row>SCN2A</th><td>28.15752</td><td>1.713251</td><td>0.1379604</td><td>12.41842</td><td>2.076195e-35</td><td>2.655454e-31</td></tr>\n",
       "</tbody>\n",
       "</table>\n"
      ],
      "text/latex": [
       "A data.frame: 2 × 6\n",
       "\\begin{tabular}{r|llllll}\n",
       "  & baseMean & log2FoldChange & lfcSE & stat & pvalue & padj\\\\\n",
       "  & <dbl> & <dbl> & <dbl> & <dbl> & <dbl> & <dbl>\\\\\n",
       "\\hline\n",
       "\tLHFPL4 & 15.38575 & 1.671662 & 0.1232942 & 13.55831 & 7.074325e-42 & 1.809612e-37\\\\\n",
       "\tSCN2A & 28.15752 & 1.713251 & 0.1379604 & 12.41842 & 2.076195e-35 & 2.655454e-31\\\\\n",
       "\\end{tabular}\n"
      ],
      "text/markdown": [
       "\n",
       "A data.frame: 2 × 6\n",
       "\n",
       "| <!--/--> | baseMean &lt;dbl&gt; | log2FoldChange &lt;dbl&gt; | lfcSE &lt;dbl&gt; | stat &lt;dbl&gt; | pvalue &lt;dbl&gt; | padj &lt;dbl&gt; |\n",
       "|---|---|---|---|---|---|---|\n",
       "| LHFPL4 | 15.38575 | 1.671662 | 0.1232942 | 13.55831 | 7.074325e-42 | 1.809612e-37 |\n",
       "| SCN2A | 28.15752 | 1.713251 | 0.1379604 | 12.41842 | 2.076195e-35 | 2.655454e-31 |\n",
       "\n"
      ],
      "text/plain": [
       "       baseMean log2FoldChange lfcSE     stat     pvalue       padj        \n",
       "LHFPL4 15.38575 1.671662       0.1232942 13.55831 7.074325e-42 1.809612e-37\n",
       "SCN2A  28.15752 1.713251       0.1379604 12.41842 2.076195e-35 2.655454e-31"
      ]
     },
     "metadata": {},
     "output_type": "display_data"
    },
    {
     "data": {
      "text/html": [
       "<style>\n",
       ".list-inline {list-style: none; margin:0; padding: 0}\n",
       ".list-inline>li {display: inline-block}\n",
       ".list-inline>li:not(:last-child)::after {content: \"\\00b7\"; padding: 0 .5ex}\n",
       "</style>\n",
       "<ol class=list-inline><li>915</li><li>6</li></ol>\n"
      ],
      "text/latex": [
       "\\begin{enumerate*}\n",
       "\\item 915\n",
       "\\item 6\n",
       "\\end{enumerate*}\n"
      ],
      "text/markdown": [
       "1. 915\n",
       "2. 6\n",
       "\n",
       "\n"
      ],
      "text/plain": [
       "[1] 915   6"
      ]
     },
     "metadata": {},
     "output_type": "display_data"
    },
    {
     "data": {
      "text/html": [
       "<style>\n",
       ".list-inline {list-style: none; margin:0; padding: 0}\n",
       ".list-inline>li {display: inline-block}\n",
       ".list-inline>li:not(:last-child)::after {content: \"\\00b7\"; padding: 0 .5ex}\n",
       "</style>\n",
       "<ol class=list-inline><li>430</li><li>6</li></ol>\n"
      ],
      "text/latex": [
       "\\begin{enumerate*}\n",
       "\\item 430\n",
       "\\item 6\n",
       "\\end{enumerate*}\n"
      ],
      "text/markdown": [
       "1. 430\n",
       "2. 6\n",
       "\n",
       "\n"
      ],
      "text/plain": [
       "[1] 430   6"
      ]
     },
     "metadata": {},
     "output_type": "display_data"
    }
   ],
   "source": [
    "# 获取padj（p值经过多重校验校正后的值）小于0.05，表达倍数取以2为对数后大于1或者小于-1的差异表达基因。\n",
    "res2_up<- res2[which(res2$log2FoldChange >0.58 & res2$padj < 0.05),]      # 表达量显著上升的基因\n",
    "res2_down<- res2[which(res2$log2FoldChange <(-0.58) & res2$padj < 0.05),]    # 表达量显著下降的基因\n",
    "res2_total <- rbind(res2_up,res2_down)\n",
    "head(res2_total,2)\n",
    "dim(res2_up)\n",
    "dim(res2_down)"
   ]
  },
  {
   "cell_type": "code",
   "execution_count": 21,
   "id": "67ab77fe",
   "metadata": {},
   "outputs": [],
   "source": [
    "write.csv(res2_total,'dif.exposed.csv')\n",
    "write.csv(res2_up,'up.exposed.csv')\n",
    "write.csv(res2_down,'down.exposed.csv')"
   ]
  },
  {
   "cell_type": "code",
   "execution_count": 22,
   "id": "722c11d0",
   "metadata": {},
   "outputs": [
    {
     "data": {
      "text/html": [
       "<style>\n",
       ".list-inline {list-style: none; margin:0; padding: 0}\n",
       ".list-inline>li {display: inline-block}\n",
       ".list-inline>li:not(:last-child)::after {content: \"\\00b7\"; padding: 0 .5ex}\n",
       "</style>\n",
       "<ol class=list-inline><li>430</li><li>6</li></ol>\n"
      ],
      "text/latex": [
       "\\begin{enumerate*}\n",
       "\\item 430\n",
       "\\item 6\n",
       "\\end{enumerate*}\n"
      ],
      "text/markdown": [
       "1. 430\n",
       "2. 6\n",
       "\n",
       "\n"
      ],
      "text/plain": [
       "[1] 430   6"
      ]
     },
     "metadata": {},
     "output_type": "display_data"
    },
    {
     "data": {
      "text/html": [
       "<style>\n",
       ".list-inline {list-style: none; margin:0; padding: 0}\n",
       ".list-inline>li {display: inline-block}\n",
       ".list-inline>li:not(:last-child)::after {content: \"\\00b7\"; padding: 0 .5ex}\n",
       "</style>\n",
       "<ol class=list-inline><li>915</li><li>6</li></ol>\n"
      ],
      "text/latex": [
       "\\begin{enumerate*}\n",
       "\\item 915\n",
       "\\item 6\n",
       "\\end{enumerate*}\n"
      ],
      "text/markdown": [
       "1. 915\n",
       "2. 6\n",
       "\n",
       "\n"
      ],
      "text/plain": [
       "[1] 915   6"
      ]
     },
     "metadata": {},
     "output_type": "display_data"
    }
   ],
   "source": [
    "#down.notexposed=read.csv('downecm.notexposed.csv',row.names = 1)\n",
    "write.table(rownames(res2_down),'down.exposed.txt',row.names = F,quote = F,col.names = F)\n",
    "write.table(rownames(res2_up),'up.exposed.txt',row.names = F,quote = F,col.names = F)\n",
    "dim(res2_down)\n",
    "dim(res2_up)"
   ]
  },
  {
   "cell_type": "code",
   "execution_count": 27,
   "id": "8d7d7528",
   "metadata": {},
   "outputs": [
    {
     "name": "stderr",
     "output_type": "stream",
     "text": [
      "Warning message:\n",
      "“\u001b[1m\u001b[22mRemoved 3 rows containing missing values (`geom_point()`).”\n",
      "Warning message:\n",
      "“\u001b[1m\u001b[22mRemoved 3 rows containing missing values (`geom_point()`).”\n"
     ]
    },
    {
     "data": {
      "text/html": [
       "<strong>png:</strong> 2"
      ],
      "text/latex": [
       "\\textbf{png:} 2"
      ],
      "text/markdown": [
       "**png:** 2"
      ],
      "text/plain": [
       "png \n",
       "  2 "
      ]
     },
     "metadata": {},
     "output_type": "display_data"
    }
   ],
   "source": [
    "library(ggplot2)\n",
    "library(ggrepel)\n",
    "dat<-res2\n",
    "dat$sig='none'\n",
    "dat[rownames(res2_up),'sig']='up'\n",
    "dat[rownames(res2_down),'sig']='down'\n",
    "pdf(\"volcano_plot.exposed.pdf\",height=12,width=11)\n",
    "ggplot(dat,aes(x=log2FoldChange,y=-log10(padj),color=sig))+\n",
    "geom_point()+\n",
    "scale_color_manual(values=c(\"#2f5688\",\"#BBBBBB\",\"#CC0000\"))+  #确定点的颜色\n",
    "theme_bw()+  #修改图片背景\n",
    "theme(panel.border = element_rect(size = 2, fill = NA),axis.ticks.x=element_line(color=\"black\",size=1.5),\n",
    "      axis.ticks.y=element_line(color=\"black\",size=1.5),axis.ticks.length.x = unit(0.3,'cm'), \n",
    "      axis.ticks.length.y = unit(0.3,'cm'),\n",
    "  legend.title = element_blank()  #不显示图例标题\n",
    ")+\n",
    "theme(axis.title.x =element_text(size=14,face = \"bold\"), axis.title.y=element_text(size=14,face = \"bold\"),axis.text = element_text(size = 14,face = \"bold\")) +  #调整坐标轴字号\n",
    "ylab('-log10 (p-adj)')+  #修改y轴名称\n",
    "xlab('log2 (FoldChange)')+  #修改x轴名称\n",
    "geom_vline(xintercept=c(-0.58,0.58),lty=3,col=\"black\",lwd=0.5) +  #添加垂直阈值|FoldChange|>2\n",
    "geom_hline(yintercept = -log10(0.05),lty=3,col=\"black\",lwd=0.5)+  #添加水平阈值padj<0.05\n",
    "#xlim(-max(dat$log2FoldChange)*1.2, max(dat$log2FoldChange)*1.2)\n",
    "scale_x_continuous(limits=c(-max(dat$log2FoldChange)*1.2, max(dat$log2FoldChange)*1.2), breaks=seq(-3,3,1))\n",
    "ggsave('volcano_plot.exposed.png',height=6,width=8)\n",
    "dev.off()\n"
   ]
  },
  {
   "cell_type": "code",
   "execution_count": 41,
   "id": "0ef9353c",
   "metadata": {},
   "outputs": [
    {
     "data": {
      "text/html": [
       "<table class=\"dataframe\">\n",
       "<caption>A data.frame: 2 × 2</caption>\n",
       "<thead>\n",
       "\t<tr><th></th><th scope=col>gene</th><th scope=col>lgfc</th></tr>\n",
       "\t<tr><th></th><th scope=col>&lt;chr&gt;</th><th scope=col>&lt;dbl&gt;</th></tr>\n",
       "</thead>\n",
       "<tbody>\n",
       "\t<tr><th scope=row>189</th><td>LBX1</td><td>2.494938</td></tr>\n",
       "\t<tr><th scope=row>32</th><td>SYT4</td><td>2.245230</td></tr>\n",
       "</tbody>\n",
       "</table>\n"
      ],
      "text/latex": [
       "A data.frame: 2 × 2\n",
       "\\begin{tabular}{r|ll}\n",
       "  & gene & lgfc\\\\\n",
       "  & <chr> & <dbl>\\\\\n",
       "\\hline\n",
       "\t189 & LBX1 & 2.494938\\\\\n",
       "\t32 & SYT4 & 2.245230\\\\\n",
       "\\end{tabular}\n"
      ],
      "text/markdown": [
       "\n",
       "A data.frame: 2 × 2\n",
       "\n",
       "| <!--/--> | gene &lt;chr&gt; | lgfc &lt;dbl&gt; |\n",
       "|---|---|---|\n",
       "| 189 | LBX1 | 2.494938 |\n",
       "| 32 | SYT4 | 2.245230 |\n",
       "\n"
      ],
      "text/plain": [
       "    gene lgfc    \n",
       "189 LBX1 2.494938\n",
       "32  SYT4 2.245230"
      ]
     },
     "metadata": {},
     "output_type": "display_data"
    }
   ],
   "source": [
    "rnk=data.frame(gene=rownames(res2),lgfc=res2$log2FoldChange)\n",
    "rnk=rnk[order(rnk$lgfc,decreasing = T),]\n",
    "head(rnk,2)\n",
    "write.table(rnk,'exposed.aged.young.rnk',row.names = F,quote = F,col.names = F,sep = '\\t')"
   ]
  },
  {
   "cell_type": "code",
   "execution_count": null,
   "id": "96f9642b",
   "metadata": {},
   "outputs": [],
   "source": []
  }
 ],
 "metadata": {
  "kernelspec": {
   "display_name": "R",
   "language": "R",
   "name": "ir"
  },
  "language_info": {
   "codemirror_mode": "r",
   "file_extension": ".r",
   "mimetype": "text/x-r-source",
   "name": "R",
   "pygments_lexer": "r",
   "version": "4.1.3"
  }
 },
 "nbformat": 4,
 "nbformat_minor": 5
}
